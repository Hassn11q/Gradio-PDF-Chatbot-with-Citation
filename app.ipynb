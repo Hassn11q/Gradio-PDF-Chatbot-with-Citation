{
 "cells": [
  {
   "cell_type": "code",
   "execution_count": 1,
   "metadata": {},
   "outputs": [
    {
     "name": "stderr",
     "output_type": "stream",
     "text": [
      "/opt/anaconda3/envs/master-rag/lib/python3.11/site-packages/tqdm/auto.py:21: TqdmWarning: IProgress not found. Please update jupyter and ipywidgets. See https://ipywidgets.readthedocs.io/en/stable/user_install.html\n",
      "  from .autonotebook import tqdm as notebook_tqdm\n"
     ]
    },
    {
     "data": {
      "text/plain": [
       "True"
      ]
     },
     "execution_count": 1,
     "metadata": {},
     "output_type": "execute_result"
    }
   ],
   "source": [
    "import os\n",
    "import gradio as gr\n",
    "from dotenv import load_dotenv\n",
    "from langchain_experimental.text_splitter import SemanticChunker\n",
    "from langchain_cohere import CohereEmbeddings\n",
    "from langchain_community.document_loaders import PyPDFium2Loader\n",
    "from langchain.text_splitter import RecursiveCharacterTextSplitter\n",
    "from qdrant_client import QdrantClient\n",
    "from qdrant_client.models import Distance, VectorParams\n",
    "from dspy.retrieve.qdrant_rm import QdrantRM\n",
    "import dspy\n",
    "from dspy.retrieve.qdrant_rm import QdrantRM\n",
    "from qdrant_client import QdrantClient\n",
    "\n",
    "load_dotenv()"
   ]
  },
  {
   "cell_type": "code",
   "execution_count": 2,
   "metadata": {},
   "outputs": [],
   "source": [
    "# Initialize Embeddings\n",
    "embeddings = CohereEmbeddings(\n",
    "    cohere_api_key=os.environ[\"COHERE_API_KEY\"], model=\"embed-multilingual-light-v3.0\"\n",
    ")"
   ]
  },
  {
   "cell_type": "code",
   "execution_count": 3,
   "metadata": {},
   "outputs": [],
   "source": [
    "# Initialize Text Splitter\n",
    "text_splitter = RecursiveCharacterTextSplitter(\n",
    "    chunk_size=2048, chunk_overlap=128, add_start_index=True\n",
    ")"
   ]
  },
  {
   "cell_type": "code",
   "execution_count": 4,
   "metadata": {},
   "outputs": [],
   "source": [
    "# Initialize Semantic Chunker\n",
    "semantic_splitter = SemanticChunker(\n",
    "    embeddings=embeddings, breakpoint_threshold_type=\"interquartile\"\n",
    ")"
   ]
  },
  {
   "cell_type": "code",
   "execution_count": 5,
   "metadata": {},
   "outputs": [
    {
     "name": "stderr",
     "output_type": "stream",
     "text": [
      "/opt/anaconda3/envs/master-rag/lib/python3.11/site-packages/pypdfium2/_helpers/textpage.py:80: UserWarning: get_text_range() call with default params will be implicitly redirected to get_text_bounded()\n",
      "  warnings.warn(\"get_text_range() call with default params will be implicitly redirected to get_text_bounded()\")\n"
     ]
    }
   ],
   "source": [
    "# Load documents\n",
    "documents = []\n",
    "loaded_documents = PyPDFium2Loader(\"./data/saudi_vision2030_ar.pdf\").load()\n",
    "document_text = \"\\n\".join([doc.page_content for doc in loaded_documents])\n",
    "documents.extend(\n",
    "    text_splitter.split_documents(semantic_splitter.create_documents([document_text]))\n",
    ")\n",
    "chunks = [doc.page_content for doc in documents]\n",
    "doc_id = list(range(1, len(documents) + 1))\n",
    "vectors = embeddings.embed_documents(chunks)\n"
   ]
  },
  {
   "cell_type": "code",
   "execution_count": 6,
   "metadata": {},
   "outputs": [],
   "source": [
    "# Initialize Qdrant client\n",
    "client = QdrantClient(\":memory:\")"
   ]
  },
  {
   "cell_type": "code",
   "execution_count": 7,
   "metadata": {},
   "outputs": [],
   "source": [
    "# Create Qdrant collection\n",
    "client.delete_collection(collection_name=\"data\")\n",
    "client.create_collection(\n",
    "    collection_name=\"data\",\n",
    "    vectors_config=VectorParams(size=384, distance=Distance.COSINE),\n",
    ")\n",
    "\n",
    "# Upload data to Qdrant\n",
    "client.upload_collection(collection_name=\"data\", ids=doc_id, vectors=vectors)"
   ]
  },
  {
   "cell_type": "code",
   "execution_count": 8,
   "metadata": {},
   "outputs": [
    {
     "name": "stderr",
     "output_type": "stream",
     "text": [
      "100%|██████████| 77.7M/77.7M [00:06<00:00, 12.3MiB/s]\n"
     ]
    }
   ],
   "source": [
    "# Initialize Retriever\n",
    "\n",
    "\n",
    "retriever_model = QdrantRM(qdrant_collection_name=\"data\", qdrant_client=client, k=3)"
   ]
  },
  {
   "cell_type": "code",
   "execution_count": 9,
   "metadata": {},
   "outputs": [],
   "source": [
    "# Initialize LLM\n",
    "lm = dspy.Cohere(model=\"command-r-plus\", api_key=os.environ[\"COHERE_API_KEY\"])"
   ]
  },
  {
   "cell_type": "code",
   "execution_count": 10,
   "metadata": {},
   "outputs": [],
   "source": [
    "# Configure dspy module\n",
    "dspy.settings.configure(lm=lm, rm=retriever_model)"
   ]
  },
  {
   "cell_type": "code",
   "execution_count": 11,
   "metadata": {},
   "outputs": [],
   "source": [
    "# function to retrieve the best matching data chunk stored in the database\n",
    "def get_context(text):\n",
    "    query_vector = embeddings.embed_query(text)\n",
    "\n",
    "    hits = client.search(collection_name=\"data\", query_vector=query_vector, limit=3)"
   ]
  },
  {
   "cell_type": "code",
   "execution_count": 12,
   "metadata": {},
   "outputs": [],
   "source": [
    "# Initialize Answer Generator\n",
    "class GenerateAnswerWithContext(dspy.Signature):\n",
    "    \"\"\"You are a research assistant. Use the provided document snippets to\n",
    "        answer the query. Format your response with citations in structured JSON format:\n",
    "        <response format>\n",
    "        {{\n",
    "        \"response\":\"Your response here.\",\n",
    "        \"citations\":[\n",
    "            {{\n",
    "                \"title\":\"Document Title\",\n",
    "                \"snippet\":\"Exact snippet from the document\"\n",
    "            }}]\n",
    "        }}\n",
    "        </response format>\n",
    "\n",
    "    IMPORTANT CITATION RULES:\n",
    "    1. Each citation MUST be a complete sentence or phrase from the original text.\n",
    "    2. Citations MUST be VERBATIM and EXACT quotes from the provided documents.\n",
    "    3. DO NOT use ellipses (...) or any other shortening techniques in citations.\n",
    "    4. DO NOT paraphrase or modify the original text in any way for citations.\n",
    "    5. if you need  to use multiple sentences in citations, include them in full.\n",
    "    6. USE MULTIPLE citations when necessary to fully support your response.\n",
    "    7. Ensure that each citation DIRECTLY supports a specific part of your response.\n",
    "    8. if you cannot find relevant information in the provided documents, state this clearly in your response.\n",
    "\n",
    "    Example of a correct response with multiple, relevant citations:\n",
    "    {{\n",
    "    \"response\": \"The mockingbird has unique vocal abilities [1]. It uses these abilities for various purposes, including defending its territory [2].\",\n",
    "    \"citations\": [\n",
    "        {{\n",
    "            \"title\": \"Mockingbird Study\",\n",
    "            \"snippet\": \"The mockingbird is known for its ability to mimic the calls of other birds even mechanical sounds.\"\n",
    "        }},\n",
    "        {{\n",
    "            \"title\": \"Mockingbird Behavior\",\n",
    "            \"snippet\": \"Mockingbirds use their diverse vocal repertoire to defend their territories from intruders and to attract mates.\"\n",
    "        }}\n",
    "    ]\n",
    "    }}\n",
    "\n",
    "    Remember:\n",
    "    1. Citations must be EXACT, COMPLETE sentences or phrases from the provided text.\n",
    "    2. Do not modify, shorten, or paraphrase the original text in your citations.\n",
    "    3. Use multiple citations when necessary to fully support your response.\n",
    "    4. Ensure each citation is directly relevant to the part of your response that it supports.\n",
    "    5. if you cannot find relevant information in the provided documents, clearly state this in your response.\n",
    "\n",
    "    Now, please answer the given query using the provided information and following these guidelines.\n",
    "    \"\"\"\n",
    "\n",
    "    context = dspy.InputField(\n",
    "        desc=\"Use the provided document snippets to answer the query\"\n",
    "    )\n",
    "    question = dspy.InputField()\n",
    "    answer = dspy.OutputField(\n",
    "        desc=\"Format your response with citations in structured JSON format in arabic language\"\n",
    "    )"
   ]
  },
  {
   "cell_type": "code",
   "execution_count": 13,
   "metadata": {},
   "outputs": [],
   "source": [
    "# Initialize dspy module\n",
    "class RAG(dspy.Module):\n",
    "    def __init__(self, num_passages=3):\n",
    "        super().__init__()\n",
    "        self.retrieve = dspy.Retrieve(k=num_passages)\n",
    "        self.generate_answer = dspy.ChainOfThought(GenerateAnswerWithContext)\n",
    "\n",
    "    def forward(self, question):\n",
    "        context = get_context(question)\n",
    "        prediction = self.generate_answer(context=context, question=question)\n",
    "        return dspy.Prediction(context=context, answer=prediction.answer)"
   ]
  },
  {
   "cell_type": "code",
   "execution_count": 14,
   "metadata": {},
   "outputs": [],
   "source": [
    "# Initialize RAG\n",
    "rag = RAG()"
   ]
  },
  {
   "cell_type": "code",
   "execution_count": 15,
   "metadata": {},
   "outputs": [
    {
     "name": "stdout",
     "output_type": "stream",
     "text": [
      "Running on local URL:  http://127.0.0.1:7865\n",
      "\n",
      "To create a public link, set `share=True` in `launch()`.\n"
     ]
    },
    {
     "data": {
      "text/html": [
       "<div><iframe src=\"http://127.0.0.1:7865/\" width=\"100%\" height=\"500\" allow=\"autoplay; camera; microphone; clipboard-read; clipboard-write;\" frameborder=\"0\" allowfullscreen></iframe></div>"
      ],
      "text/plain": [
       "<IPython.core.display.HTML object>"
      ]
     },
     "metadata": {},
     "output_type": "display_data"
    },
    {
     "data": {
      "text/plain": []
     },
     "execution_count": 15,
     "metadata": {},
     "output_type": "execute_result"
    }
   ],
   "source": [
    "\n",
    "## chatbot interface\n",
    "def chatbot_interface(user_input, history):\n",
    "    response = rag(user_input)\n",
    "    return response.answer\n",
    "\n",
    "\n",
    "iface = gr.ChatInterface(\n",
    "    fn=chatbot_interface,\n",
    "    title=\"DSPY Chatbot\",\n",
    "    description=\"Ask me about anything about Saudi arabia vision 2023\",\n",
    ")\n",
    "\n",
    "iface.launch()"
   ]
  }
 ],
 "metadata": {
  "kernelspec": {
   "display_name": "master-rag",
   "language": "python",
   "name": "python3"
  },
  "language_info": {
   "codemirror_mode": {
    "name": "ipython",
    "version": 3
   },
   "file_extension": ".py",
   "mimetype": "text/x-python",
   "name": "python",
   "nbconvert_exporter": "python",
   "pygments_lexer": "ipython3",
   "version": "3.11.9"
  }
 },
 "nbformat": 4,
 "nbformat_minor": 2
}
